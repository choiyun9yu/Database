{
 "cells": [
  {
   "cell_type": "code",
   "execution_count": 1,
   "metadata": {},
   "outputs": [
    {
     "name": "stdout",
     "output_type": "stream",
     "text": [
      "(('root', '*E56A114692FE0DE073F9A1DD68A00EEB9703F3F1'), ('root', '*E56A114692FE0DE073F9A1DD68A00EEB9703F3F1'))\n"
     ]
    }
   ],
   "source": [
    "import pymysql as ps\n",
    "\n",
    "conn = ps.connect(host='192.168.219.108', user='root', passwd='123123', db='mysql')\n",
    "curs = conn.cursor() \n",
    "sql = \"select user, password from user\"\n",
    "curs.execute(sql)\n",
    "result = curs.fetchall()\n",
    "conn.commit()\n",
    "curs.close()\n",
    "conn.close()\n",
    "print(result)"
   ]
  }
 ],
 "metadata": {
  "kernelspec": {
   "display_name": "Python 3",
   "language": "python",
   "name": "python3"
  },
  "language_info": {
   "codemirror_mode": {
    "name": "ipython",
    "version": 3
   },
   "file_extension": ".py",
   "mimetype": "text/x-python",
   "name": "python",
   "nbconvert_exporter": "python",
   "pygments_lexer": "ipython3",
   "version": "3.8.16"
  },
  "orig_nbformat": 4,
  "vscode": {
   "interpreter": {
    "hash": "aee8b7b246df8f9039afb4144a1f6fd8d2ca17a180786b69acc140d282b71a49"
   }
  }
 },
 "nbformat": 4,
 "nbformat_minor": 2
}
